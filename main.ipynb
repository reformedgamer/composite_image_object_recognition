{
 "cells": [
  {
   "cell_type": "markdown",
   "metadata": {},
   "source": [
    "## Goals\n",
    "\n",
    "Given the images, text, and audio files, as well as machine learning outputs, your goal is to identify, use data analytics to answer the questions below. Your tasks is to use visual analytics to improve and understand machine learning outputs and apply visual analytics to track provenance, uncertainty, and confidence in machine learning results. Ultimately, you must link multiple data types to identify the group CGCS is seeking.\n",
    "\n",
    "    1. Examine the outputs from the model – either from the detection results provided or the results from a model you chose. Which objects were identified well by the model and which were not?\n",
    "\n",
    "    2. Demonstrate your process for using visual analytics to correct for classification errors in the results. How do you represent confidence and uncertainty? How could the correction process be made more efficient?\n",
    "\n",
    "    3. Characterize the distribution of objects across the forty people.\n",
    "\n",
    "        a. Which people have which objects?\n",
    "\n",
    "        b. Identify groups of people that have object(s) in common.\n",
    "\n",
    "    4. Which group do you think is the most likely group with the “totem”? What is your rationale for that assessment?\n",
    "\n",
    "    5. Process question: Did you choose to use the object recognition model results provided or use your own machine learning algorithm? Why did you make that choice? What was the biggest challenge you faced?"
   ]
  },
  {
   "cell_type": "code",
   "execution_count": null,
   "metadata": {},
   "outputs": [],
   "source": []
  }
 ],
 "metadata": {
  "kernelspec": {
   "display_name": "Python 3.9.13 64-bit (microsoft store)",
   "language": "python",
   "name": "python3"
  },
  "language_info": {
   "name": "python",
   "version": "3.9.13"
  },
  "orig_nbformat": 4,
  "vscode": {
   "interpreter": {
    "hash": "840a9164bb9fc88486304cc7b79e60ce46d7cde4ca76c2ec28291e44e8ec0aff"
   }
  }
 },
 "nbformat": 4,
 "nbformat_minor": 2
}
