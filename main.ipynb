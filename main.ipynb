{
 "cells": [
  {
   "cell_type": "markdown",
   "metadata": {},
   "source": [
    "## Goals\n",
    "\n",
    "Given the images, text, and audio files, as well as machine learning outputs, your goal is to identify, use data analytics to answer the questions below. Your tasks is to use visual analytics to improve and understand machine learning outputs and apply visual analytics to track provenance, uncertainty, and confidence in machine learning results. Ultimately, you must link multiple data types to identify the group CGCS is seeking.\n",
    "\n",
    "    1. Examine the outputs from the model – either from the detection results provided or the results from a model you chose. Which objects were identified well by the model and which were not?\n",
    "\n",
    "    2. Demonstrate your process for using visual analytics to correct for classification errors in the results. How do you represent confidence and uncertainty? How could the correction process be made more efficient?\n",
    "\n",
    "    3. Characterize the distribution of objects across the forty people.\n",
    "\n",
    "        a. Which people have which objects?\n",
    "\n",
    "        b. Identify groups of people that have object(s) in common.\n",
    "\n",
    "    4. Which group do you think is the most likely group with the “totem”? What is your rationale for that assessment?\n",
    "\n",
    "    5. Process question: Did you choose to use the object recognition model results provided or use your own machine learning algorithm? Why did you make that choice? What was the biggest challenge you faced?"
   ]
  },
  {
   "cell_type": "code",
   "execution_count": 1,
   "metadata": {},
   "outputs": [],
   "source": [
    "import os\n",
    "import re\n",
    "import subprocess\n",
    "import csv\n",
    "import pandas as pd"
   ]
  },
  {
   "cell_type": "code",
   "execution_count": null,
   "metadata": {},
   "outputs": [],
   "source": [
    "#Command used to train YOLOv7 object detection model on custom training data.\n",
    "%run train.py --epochs 100 --workers 4 --batch-size 4 --data data/custom.yaml --cfg cfg/training/yolov7.yaml --weights yolov7_training.pt --name yolov7_object_of_search --hyp data/hyp.scratch.custom.yaml"
   ]
  },
  {
   "cell_type": "code",
   "execution_count": 2,
   "metadata": {},
   "outputs": [
    {
     "name": "stderr",
     "output_type": "stream",
     "text": [
      "YOLOR  v0.1-115-g072f76c torch 1.11.0+cu113 CUDA:0 (NVIDIA GeForce RTX 3080 Ti, 12287.5MB)\n",
      "\n"
     ]
    },
    {
     "name": "stdout",
     "output_type": "stream",
     "text": [
      "Namespace(weights=['runs/train/yolov7_object_of_search/weights/best.pt'], data='data/custom.yaml', batch_size=4, img_size=640, conf_thres=0.001, iou_thres=0.65, task='test', device='', single_cls=False, augment=False, verbose=False, save_txt=False, save_hybrid=False, save_conf=False, save_json=False, project='runs/test', name='exp', exist_ok=False, no_trace=False, v5_metric=False)\n",
      "Fusing layers... \n",
      "RepConv.fuse_repvgg_block\n",
      "RepConv.fuse_repvgg_block\n",
      "RepConv.fuse_repvgg_block\n",
      "IDetect.fuse\n"
     ]
    },
    {
     "name": "stderr",
     "output_type": "stream",
     "text": [
      "g:\\Programs\\anaconda3\\lib\\site-packages\\torch\\functional.py:568: UserWarning: torch.meshgrid: in an upcoming release, it will be required to pass the indexing argument. (Triggered internally at  C:\\actions-runner\\_work\\pytorch\\pytorch\\builder\\windows\\pytorch\\aten\\src\\ATen\\native\\TensorShape.cpp:2228.)\n",
      "  return _VF.meshgrid(tensors, **kwargs)  # type: ignore[attr-defined]\n",
      "Model Summary: 314 layers, 36708320 parameters, 6194944 gradients, 103.9 GFLOPS\n"
     ]
    },
    {
     "name": "stdout",
     "output_type": "stream",
     "text": [
      " Convert model to Traced-model... \n",
      " traced_script_module saved! \n",
      " model is traced! \n",
      "\n"
     ]
    },
    {
     "name": "stderr",
     "output_type": "stream",
     "text": [
      "\u001b[34m\u001b[1mtest: \u001b[0mScanning 'test\\labels.cache' images and labels... 129 found, 0 missing, 0 empty, 0 corrupted: 100%|██████████| 129/129 [00:00<?, ?it/s]\n",
      "               Class      Images      Labels           P           R      mAP@.5  mAP@.5:.95: 100%|██████████| 33/33 [00:07<00:00,  4.49it/s]\n"
     ]
    },
    {
     "name": "stdout",
     "output_type": "stream",
     "text": [
      "                 all         129         136       0.832       0.769       0.838       0.744\n",
      "            birdCall         129           4       0.448        0.25       0.403       0.282\n",
      "      blueSunglasses         129           3        0.89           1       0.995       0.913\n",
      "            brownDie         129           3           1       0.782       0.996       0.764\n",
      "         cactusPaper         129           3       0.886           1       0.995       0.995\n",
      "        canadaPencil         129           3           1       0.667       0.665         0.5\n",
      "           carabiner         129           3       0.996           1       0.995       0.841\n",
      "           cloudSign         129           3       0.891           1       0.995       0.962\n",
      "             cowbell         129           3       0.902           1       0.995       0.995\n",
      "        cupcakePaper         129           3       0.863       0.667       0.715        0.69\n",
      "             eyeball         129           3       0.887           1       0.995        0.94\n",
      "            foamDart         129           3        0.87           1       0.995       0.995\n",
      "              gClamp         129           3           1           1       0.995        0.88\n",
      "             giftBag         129           3       0.706       0.667       0.913       0.656\n",
      "           glassBead         129           9       0.927           1       0.996       0.925\n",
      "           gyroscope         129           3       0.896           1       0.995       0.907\n",
      "            hairClip         129           3           0           0       0.284       0.125\n",
      "          hairRoller         129           3           1       0.524       0.913       0.872\n",
      "         lavenderDie         129           3       0.882           1       0.995        0.83\n",
      "        legoBracelet         129           3       0.927       0.667       0.807       0.745\n",
      "            metalKey         129           3       0.892       0.667       0.695       0.636\n",
      "           miniCards         129           3       0.898           1       0.995       0.962\n",
      "          noisemaker         129           3       0.931           1       0.995       0.664\n",
      "          paperPlate         129           3       0.915           1       0.996       0.941\n",
      "          partyFavor         129           3        0.14        0.14       0.112       0.101\n",
      "          pinkCandle         129           3       0.871       0.333       0.335       0.235\n",
      "          pinkEraser         129           3       0.838           1       0.995       0.929\n",
      "         plaidPencil         129           3        0.92       0.333       0.408       0.379\n",
      "        pumpkinNotes         129           3       0.906           1       0.995       0.863\n",
      "         rainbowPens         129           3           1       0.615       0.995       0.698\n",
      "              redBow         129           3       0.905           1       0.995       0.896\n",
      "             redDart         129           3           1       0.835       0.995       0.995\n",
      "          redWhistle         129           3        0.84       0.667       0.775       0.731\n",
      "          rubiksCube         129           3           1        0.58       0.705       0.524\n",
      "                sign         129           3       0.831           1       0.995       0.995\n",
      "         silverStraw         129           3           0           0       0.272       0.168\n",
      "          spiderRing         129           3       0.549           1       0.995       0.857\n",
      "          stickerBox         129           3       0.861       0.667       0.864       0.718\n",
      "              trophy         129           3       0.895           1       0.995       0.863\n",
      "              turtle         129           3       0.896           1       0.995       0.995\n",
      "      vancouverCards         129           3       0.903           1       0.995       0.995\n",
      "       voiceRecorder         129           3           1           0         0.3       0.183\n",
      "           yellowBag         129           3       0.908           1       0.995       0.929\n",
      "       yellowBalloon         129           3       0.898           1       0.996       0.908\n",
      "Speed: 27.7/1.4/29.1 ms inference/NMS/total per 640x640 image at batch-size 4\n",
      "Results saved to runs\\test\\exp4\n"
     ]
    }
   ],
   "source": [
    "%run test.py --weights runs/train/yolov7_object_of_search/weights/best.pt --task test --data data/custom.yaml --batch-size=4"
   ]
  },
  {
   "cell_type": "code",
   "execution_count": 3,
   "metadata": {},
   "outputs": [],
   "source": [
    "for dir in os.scandir(\"./unlabeledimages\"):\n",
    "    subprocess.call([\"python\", \"detect.py\", \"--weights\", \"runs/train/yolov7_object_of_search/weights/best.pt\", \"--source\", f\"./unlabeledimages/{dir.name}/\",\n",
    "    \"--save-txt\", \"--save-conf\", \"--project\", \"./predictedlabels/\", \"--name\", f\"{dir.name}\", \"--exist-ok\"])"
   ]
  },
  {
   "cell_type": "code",
   "execution_count": 4,
   "metadata": {},
   "outputs": [
    {
     "name": "stdout",
     "output_type": "stream",
     "text": [
      "{'birdCall': set(), 'blueSunglasses': set(), 'brownDie': set(), 'cactusPaper': set(), 'canadaPencil': {'Person35_text5'}, 'carabiner': {'Person29_text6'}, 'cloudSign': set(), 'cowbell': {'Person35_text6'}, 'cupcakePaper': set(), 'eyeball': {'Person35_text4'}, 'foamDart': set(), 'gClamp': set(), 'giftBag': set(), 'glassBead': {'Person29_text7'}, 'gyroscope': {'Person35_text7'}, 'hairClip': set(), 'hairRoller': set(), 'lavenderDie': {'Person29_text2'}, 'legoBracelet': {'Person39_text4'}, 'metalKey': set(), 'miniCards': set(), 'noisemaker': set(), 'paperPlate': set(), 'partyFavor': set(), 'pinkCandle': {'Person35_text3'}, 'pinkEraser': set(), 'plaidPencil': set(), 'pumpkinNotes': set(), 'rainbowPens': set(), 'redBow': {'Person29_text5'}, 'redDart': set(), 'redWhistle': set(), 'rubiksCube': set(), 'sign': set(), 'silverStraw': set(), 'spiderRing': set(), 'stickerBox': set(), 'trophy': {'Person29_text1', 'Person35_text1'}, 'turtle': {'Person35_text2'}, 'vancouverCards': set(), 'voiceRecorder': {'Person39_text8'}, 'yellowBag': set(), 'yellowBalloon': set()}\n"
     ]
    }
   ],
   "source": [
    "obj_words = {\"birdCall\": {\"birdwhistle\", \"birdwhistles\"}, \"blueSunglasses\": {\"sunglasses\", \"glasses\"}, \"brownDie\": {\"browndie\", \"browndice\"}, \"cactusPaper\": {\"cactus\", \"cacti\"}, \"canadaPencil\": {\"canadapencil\", \"canadianpencil\", \"leafpencil\", \"flagpencil\"},\n",
    "\"carabiner\": {\"carabiner\"}, \"cloudSign\": {\"cloud\", \"lightning\", \"thunder\", \"thundercloud\", \"stormcloud\"}, \"cowbell\": {\"cowbell\", \"cowbells\"}, \"cupcakePaper\": {\"cupcake\", \"cupcakes\", \"wrapper\", \"wrappers\"}, \"eyeball\": {\"eyeball\", \"eyeballs\"},\n",
    "\"foamDart\": {\"foamdart\", \"foamdarts\"}, \"gClamp\": {\"clamp\", \"clamps\"}, \"giftBag\": {\"giftbag\", \"giftbags\"}, \"glassBead\": {\"bead\", \"beads\", \"crystal\", \"crystals\", \"gem\", \"gems\", \"orb\", \"orbs\"}, \"gyroscope\": {\"gyroscope\", \"gyroscopes\", \"spinner\", \"spinners\"},\n",
    "\"hairClip\": {\"hairclip\", \"hairclips\"}, \"hairRoller\": {\"hairroller\", \"hairrollers\", \"roller\", \"rollers\"}, \"lavenderDie\": {\"lavenderdie\", \"lavenderdice\", \"purpledie\", \"purpledice\"}, \"legoBracelet\": {\"lego\", \"bracelet\", \"bracelets\"}, \"metalKey\": {\"key\", \"keys\"},\n",
    "\"miniCards\": {\"smallcard\", \"smallcards\", \"minicard\", \"minicards\", \"miniaturecard\", \"miniaturecards\"}, \"noisemaker\": {\"noisemaker\", \"noisemakers\"}, \"paperPlate\": {\"plate\", \"plates\"}, \"partyFavor\": {\"partyfavor\", \"partyfavors\"}, \"pinkCandle\": {\"candle\", \"candles\"},\n",
    "\"pinkEraser\": {\"eraser\", \"erasers\"}, \"plaidPencil\": {\"plaidpencil\", \"plaidpencils\", \"stripedpencil\", \"stripedpencils\"}, \"pumpkinNotes\": {\"pumpkin\", \"pumpkins\"}, \"rainbowPens\": {\"pen\", \"pens\", \"marker\", \"markers\", \"coloring\"}, \"redBow\": {\"bow\", \"bows\"},\n",
    "\"redDart\": {\"reddart\", \"reddarts\"}, \"redWhistle\": {\"redwhistle\", \"redwhistles\"}, \"rubiksCube\": {\"cube\", \"cubes\"}, \"sign\": {\"thesign\", \"blacksign\"}, \"silverStraw\": {\"straw\", \"straws\"}, \"spiderRing\": {\"spider\", \"spiders\"}, \"stickerBox\": {\"stickerbox\", \"ofstickers\"},\n",
    "\"trophy\": {\"trophy\", \"trophies\"}, \"turtle\": {\"tortoise\", \"tortoises\", \"turtle\", \"turtles\"}, \"vancouverCards\": {\"vancouver\"}, \"voiceRecorder\": {\"recorder\", \"recorders\", \"record\", \"records\", \"recording\", \"recordings\"}, \"yellowBag\": {\"yellowbag\", \"yellowbags\"},\n",
    "\"yellowBalloon\": {\"balloon\", \"balloons\"}}\n",
    "\n",
    "obj_names = ['birdCall', 'blueSunglasses', 'brownDie', 'cactusPaper', 'canadaPencil', 'carabiner', 'cloudSign', 'cowbell', 'cupcakePaper', 'eyeball', 'foamDart', 'gClamp', 'giftBag', 'glassBead', 'gyroscope', 'hairClip', 'hairRoller', 'lavenderDie', 'legoBracelet', 'metalKey', 'miniCards', 'noisemaker', 'paperPlate', 'partyFavor', 'pinkCandle', 'pinkEraser', 'plaidPencil', 'pumpkinNotes', 'rainbowPens', 'redBow', 'redDart', 'redWhistle', 'rubiksCube', 'sign', 'silverStraw', 'spiderRing', 'stickerBox', 'trophy', 'turtle', 'vancouverCards', 'voiceRecorder', 'yellowBag', 'yellowBalloon']\n",
    "\n",
    "obj_sources_txt = {k : set() for k in obj_names}\n",
    "\n",
    "obj_owners_txt = {k : set() for k in obj_names}\n",
    "\n",
    "obj_sources_capt = {k : set() for k in obj_names}\n",
    "\n",
    "obj_owners_capt = {k : set() for k in obj_names}\n",
    "\n",
    "txtfilecount = 0\n",
    "\n",
    "captionfilecount = 0\n",
    "\n",
    "for dir in os.scandir(\"./unlabeledimages\"):\n",
    "    for filename in os.scandir(dir):\n",
    "        if filename.name[-3:] == \"txt\":\n",
    "            with open(filename.path) as f:\n",
    "                filetext = f.read()\n",
    "                textcleaned = re.sub(r'[^A-Za-z0-9\\s]+', '', filetext).lower()\n",
    "                textsplit = textcleaned.split()\n",
    "                textlen = len(textsplit)\n",
    "                if filename.name[-11:] == \"caption.txt\":\n",
    "                    captionfilecount += 1\n",
    "                else:\n",
    "                    txtfilecount += 1\n",
    "                for idx in range(textlen):\n",
    "                    for k in obj_names:\n",
    "                        if idx == 0:\n",
    "                            if textsplit[idx] in obj_words[k]:\n",
    "                                if filename.name[-11:] == \"caption.txt\":\n",
    "                                    obj_sources_capt[k].add(filename.name[:-11])\n",
    "                                    obj_owners_capt[k].add(dir.name)\n",
    "                                else:\n",
    "                                    obj_sources_txt[k].add(filename.name[:-4])\n",
    "                                    obj_owners_txt[k].add(dir.name)\n",
    "                        else:\n",
    "                            if \"\".join(textsplit[idx-1:idx+1]) in obj_words[k] or textsplit[idx] in obj_words[k]:\n",
    "                                if filename.name[-11:] == \"caption.txt\":\n",
    "                                    obj_sources_capt[k].add(filename.name[:-11])\n",
    "                                    obj_owners_capt[k].add(dir.name)\n",
    "                                else:\n",
    "                                    obj_sources_txt[k].add(filename.name[:-4])\n",
    "                                    obj_owners_txt[k].add(dir.name)\n",
    "\n",
    "print(obj_sources_txt)"
   ]
  },
  {
   "cell_type": "code",
   "execution_count": 5,
   "metadata": {},
   "outputs": [
    {
     "name": "stdout",
     "output_type": "stream",
     "text": [
      "22\n",
      "171\n",
      "{'birdCall': set(), 'blueSunglasses': set(), 'brownDie': set(), 'cactusPaper': set(), 'canadaPencil': {'Person35'}, 'carabiner': {'Person29'}, 'cloudSign': set(), 'cowbell': {'Person35'}, 'cupcakePaper': set(), 'eyeball': {'Person35'}, 'foamDart': set(), 'gClamp': set(), 'giftBag': set(), 'glassBead': {'Person29'}, 'gyroscope': {'Person35'}, 'hairClip': set(), 'hairRoller': set(), 'lavenderDie': {'Person29'}, 'legoBracelet': {'Person39'}, 'metalKey': set(), 'miniCards': set(), 'noisemaker': set(), 'paperPlate': set(), 'partyFavor': set(), 'pinkCandle': {'Person35'}, 'pinkEraser': set(), 'plaidPencil': set(), 'pumpkinNotes': set(), 'rainbowPens': set(), 'redBow': {'Person29'}, 'redDart': set(), 'redWhistle': set(), 'rubiksCube': set(), 'sign': set(), 'silverStraw': set(), 'spiderRing': set(), 'stickerBox': set(), 'trophy': {'Person29', 'Person35'}, 'turtle': {'Person35'}, 'vancouverCards': set(), 'voiceRecorder': {'Person39'}, 'yellowBag': set(), 'yellowBalloon': set()}\n"
     ]
    }
   ],
   "source": [
    "print(txtfilecount)\n",
    "print(captionfilecount)\n",
    "print(obj_owners_txt)"
   ]
  },
  {
   "cell_type": "code",
   "execution_count": 6,
   "metadata": {},
   "outputs": [
    {
     "name": "stdout",
     "output_type": "stream",
     "text": [
      "{'birdCall': {'Person15_9', 'Person13_11'}, 'blueSunglasses': {'Person27_7', 'Person7_8', 'Person13_10', 'Person7_2', 'Person27_1', 'Person13_37', 'Person27_6', 'Person27_4', 'Person27_5', 'Person7_5', 'Person31_3'}, 'brownDie': {'Person7_6'}, 'cactusPaper': {'Person12_3'}, 'canadaPencil': {'Person14_9'}, 'carabiner': {'Person27_1', 'Person27_7'}, 'cloudSign': {'Person37_10', 'Person37_13'}, 'cowbell': {'Person28_5'}, 'cupcakePaper': {'Person13_22', 'Person13_18'}, 'eyeball': set(), 'foamDart': set(), 'gClamp': set(), 'giftBag': set(), 'glassBead': {'Person3_1', 'Person3_2'}, 'gyroscope': {'Person37_2', 'Person14_5', 'Person37_23', 'Person37_18', 'Person37_3'}, 'hairClip': {'Person28_3', 'Person12_6'}, 'hairRoller': {'Person27_8', 'Person15_5', 'Person37_8'}, 'lavenderDie': set(), 'legoBracelet': {'Person12_12', 'Person27_11', 'Person27_10', 'Person27_9'}, 'metalKey': set(), 'miniCards': {'Person14_6'}, 'noisemaker': {'Person15_1', 'Person12_10'}, 'paperPlate': {'Person13_9', 'Person37_13'}, 'partyFavor': set(), 'pinkCandle': {'Person14_13', 'Person27_12'}, 'pinkEraser': {'Person40_9', 'Person15_7'}, 'plaidPencil': set(), 'pumpkinNotes': {'Person3_8', 'Person27_14', 'Person3_23', 'Person27_13', 'Person12_15'}, 'rainbowPens': {'Person3_7'}, 'redBow': set(), 'redDart': set(), 'redWhistle': {'Person7_10'}, 'rubiksCube': {'Person7_16'}, 'sign': {'Person15_3'}, 'silverStraw': set(), 'spiderRing': {'Person28_2', 'Person28_1'}, 'stickerBox': {'Person28_3'}, 'trophy': {'Person7_14', 'Person7_13', 'Person7_4', 'Person7_11', 'Person7_9'}, 'turtle': {'Person33_35', 'Person33_39', 'Person31_1', 'Person33_32', 'Person33_58', 'Person33_36', 'Person33_30', 'Person31_3', 'Person33_34', 'Person33_47', 'Person33_50', 'Person33_43', 'Person33_48', 'Person33_56', 'Person33_49', 'Person33_33', 'Person33_54', 'Person33_42', 'Person33_52', 'Person33_60', 'Person33_31', 'Person31_4', 'Person31_2', 'Person33_29', 'Person33_46', 'Person33_55'}, 'vancouverCards': set(), 'voiceRecorder': {'Person15_13'}, 'yellowBag': {'Person12_1'}, 'yellowBalloon': {'Person3_17'}}\n"
     ]
    }
   ],
   "source": [
    "print(obj_sources_capt)"
   ]
  },
  {
   "cell_type": "code",
   "execution_count": 7,
   "metadata": {},
   "outputs": [
    {
     "name": "stdout",
     "output_type": "stream",
     "text": [
      "{'birdCall': {'Person15', 'Person13'}, 'blueSunglasses': {'Person7', 'Person27', 'Person31', 'Person13'}, 'brownDie': {'Person7'}, 'cactusPaper': {'Person12'}, 'canadaPencil': {'Person14'}, 'carabiner': {'Person27'}, 'cloudSign': {'Person37'}, 'cowbell': {'Person28'}, 'cupcakePaper': {'Person13'}, 'eyeball': set(), 'foamDart': set(), 'gClamp': set(), 'giftBag': set(), 'glassBead': {'Person3'}, 'gyroscope': {'Person14', 'Person37'}, 'hairClip': {'Person12', 'Person28'}, 'hairRoller': {'Person15', 'Person37', 'Person27'}, 'lavenderDie': set(), 'legoBracelet': {'Person12', 'Person27'}, 'metalKey': set(), 'miniCards': {'Person14'}, 'noisemaker': {'Person12', 'Person15'}, 'paperPlate': {'Person37', 'Person13'}, 'partyFavor': set(), 'pinkCandle': {'Person14', 'Person27'}, 'pinkEraser': {'Person15', 'Person40'}, 'plaidPencil': set(), 'pumpkinNotes': {'Person12', 'Person27', 'Person3'}, 'rainbowPens': {'Person3'}, 'redBow': set(), 'redDart': set(), 'redWhistle': {'Person7'}, 'rubiksCube': {'Person7'}, 'sign': {'Person15'}, 'silverStraw': set(), 'spiderRing': {'Person28'}, 'stickerBox': {'Person28'}, 'trophy': {'Person7'}, 'turtle': {'Person31', 'Person33'}, 'vancouverCards': set(), 'voiceRecorder': {'Person15'}, 'yellowBag': {'Person12'}, 'yellowBalloon': {'Person3'}}\n"
     ]
    }
   ],
   "source": [
    "print(obj_owners_capt)"
   ]
  },
  {
   "cell_type": "code",
   "execution_count": 8,
   "metadata": {},
   "outputs": [
    {
     "name": "stdout",
     "output_type": "stream",
     "text": [
      "{'birdCall': {'Person13_24'}, 'blueSunglasses': {'Person7_8', 'Person22_8', 'Person9_8', 'Person9_25', 'Person13_2', 'Person13_27', 'Person9_7', 'Person9_16', 'Person9_10', 'Person5_35', 'Person13_10', 'Person27_5', 'Person7_5'}, 'brownDie': {'Person5_40', 'Person17_59', 'Person33_58', 'Person23_48', 'Person7_16', 'Person33_15', 'Person23_49', 'Person25_24', 'Person7_3', 'Person2_3', 'Person33_14', 'Person33_1', 'Person14_18', 'Person13_5'}, 'cactusPaper': {'Person10_12', 'Person9_21', 'Person9_24', 'Person9_22'}, 'canadaPencil': {'Person22_8'}, 'carabiner': {'Person13_19'}, 'cloudSign': {'Person14_12', 'Person14_17', 'Person37_5', 'Person32_24'}, 'cowbell': {'Person3_6', 'Person38_8', 'Person35_5'}, 'cupcakePaper': {'Person23_77', 'Person23_80', 'Person23_73', 'Person6_26', 'Person33_45', 'Person23_76', 'Person13_3', 'Person34_15'}, 'eyeball': {'Person33_53', 'Person18_2', 'Person30_12'}, 'foamDart': {'Person33_8'}, 'gClamp': {'Person19_4', 'Person19_5'}, 'giftBag': {'Person32_3', 'Person33_19', 'Person7_13', 'Person7_6', 'Person23_62', 'Person23_53', 'Person33_21', 'Person18_7'}, 'glassBead': {'Person3_3', 'Person33_44', 'Person3_13', 'Person17_3', 'Person5_30', 'Person17_44', 'Person10_17', 'Person6_29', 'Person17_40', 'Person29_12', 'Person17_34', 'Person17_54', 'Person23_31', 'Person23_7', 'Person33_47', 'Person33_38', 'Person33_45', 'Person2_12', 'Person3_2', 'Person17_22', 'Person17_36', 'Person14_3', 'Person2_9', 'Person35_1', 'Person3_24', 'Person10_5', 'Person3_1', 'Person3_11', 'Person37_16', 'Person17_39', 'Person3_5'}, 'gyroscope': {'Person37_3', 'Person37_2'}, 'hairClip': {'Person36_1'}, 'hairRoller': {'Person37_8'}, 'lavenderDie': {'Person30_14', 'Person18_4', 'Person29_5', 'Person3_9', 'Person18_3'}, 'legoBracelet': {'Person5_9', 'Person24_11', 'Person24_10', 'Person17_16', 'Person13_28', 'Person10_10', 'Person5_43', 'Person12_5', 'Person5_8'}, 'metalKey': {'Person4_10', 'Person30_15', 'Person30_16', 'Person26_2', 'Person8_2'}, 'miniCards': {'Person13_4', 'Person32_19', 'Person4_11', 'Person32_9', 'Person14_6', 'Person13_25', 'Person14_7'}, 'noisemaker': set(), 'paperPlate': {'Person37_14', 'Person13_31', 'Person13_9', 'Person37_20', 'Person19_7', 'Person37_15', 'Person37_13', 'Person13_1', 'Person25_2', 'Person13_14', 'Person25_22', 'Person37_10', 'Person13_16', 'Person19_8', 'Person13_29'}, 'partyFavor': {'Person25_26', 'Person2_13', 'Person10_1', 'Person6_11', 'Person34_40', 'Person27_4', 'Person10_20', 'Person32_6'}, 'pinkCandle': set(), 'pinkEraser': {'Person15_8', 'Person33_28'}, 'plaidPencil': set(), 'pumpkinNotes': {'Person14_12', 'Person32_23', 'Person14_11', 'Person3_7', 'Person3_23', 'Person32_5'}, 'rainbowPens': set(), 'redBow': set(), 'redDart': {'Person38_14'}, 'redWhistle': {'Person38_15', 'Person38_7', 'Person33_5', 'Person33_8', 'Person23_31', 'Person33_34', 'Person9_3', 'Person7_10'}, 'rubiksCube': {'Person30_15', 'Person34_8'}, 'sign': {'Person36_6'}, 'silverStraw': {'Person33_38'}, 'spiderRing': {'Person34_48', 'Person36_5', 'Person24_5', 'Person2_10', 'Person34_42', 'Person34_49', 'Person4_19'}, 'stickerBox': {'Person9_1', 'Person10_20'}, 'trophy': {'Person20_21', 'Person25_23', 'Person37_7', 'Person35_2', 'Person13_12', 'Person10_18', 'Person11_22'}, 'turtle': {'Person33_44', 'Person33_58', 'Person33_10', 'Person34_44', 'Person33_30', 'Person36_2', 'Person34_22', 'Person33_47', 'Person33_38', 'Person32_20', 'Person33_43', 'Person35_4', 'Person34_18', 'Person34_23', 'Person33_33', 'Person33_54', 'Person33_60', 'Person32_43', 'Person32_18', 'Person33_29', 'Person33_46', 'Person33_55', 'Person34_7'}, 'vancouverCards': {'Person11_16', 'Person39_1'}, 'voiceRecorder': {'Person3_3', 'Person33_52', 'Person27_14', 'Person34_16', 'Person33_50', 'Person17_40', 'Person12_8', 'Person23_10', 'Person38_4'}, 'yellowBag': {'Person12_1', 'Person32_49'}, 'yellowBalloon': {'Person1_7', 'Person3_19', 'Person3_1', 'Person17_16', 'Person3_20', 'Person5_35', 'Person17_17', 'Person3_17', 'Person16_8', 'Person3_18', 'Person3_21', 'Person4_19', 'Person3_2'}}\n"
     ]
    }
   ],
   "source": [
    "obj_sources_jpg = {k : set() for k in obj_names}\n",
    "\n",
    "obj_owners_jpg = {k : set() for k in obj_names}\n",
    "\n",
    "pred_confs = []\n",
    "\n",
    "jpgcount = 0\n",
    "\n",
    "for basedir in os.scandir(\"./predictedlabels\"):\n",
    "    for dir in os.scandir(basedir):\n",
    "        if dir.is_dir():\n",
    "            for filename in os.scandir(dir):\n",
    "                with open(filename.path, newline='') as f:\n",
    "                    labeldataread = csv.reader(f, delimiter=' ')\n",
    "                    for row in labeldataread:\n",
    "                        if float(row[-1]) >= 0.75:\n",
    "                            obj_sources_jpg[obj_names[int(row[0])]].add(filename.name[:-4])\n",
    "                            obj_owners_jpg[obj_names[int(row[0])]].add(basedir.name)\n",
    "                        pred_confs.append([obj_names[int(row[0])], float(row[-1])])\n",
    "        else:\n",
    "            jpgcount += 1\n",
    "print(obj_sources_jpg)"
   ]
  },
  {
   "cell_type": "code",
   "execution_count": 9,
   "metadata": {},
   "outputs": [
    {
     "name": "stdout",
     "output_type": "stream",
     "text": [
      "907\n",
      "{'birdCall': {'Person13'}, 'blueSunglasses': {'Person7', 'Person13', 'Person27', 'Person9', 'Person22', 'Person5'}, 'brownDie': {'Person7', 'Person14', 'Person17', 'Person13', 'Person2', 'Person5', 'Person33', 'Person25', 'Person23'}, 'cactusPaper': {'Person10', 'Person9'}, 'canadaPencil': {'Person22'}, 'carabiner': {'Person13'}, 'cloudSign': {'Person14', 'Person37', 'Person32'}, 'cowbell': {'Person3', 'Person35', 'Person38'}, 'cupcakePaper': {'Person13', 'Person6', 'Person33', 'Person34', 'Person23'}, 'eyeball': {'Person33', 'Person30', 'Person18'}, 'foamDart': {'Person33'}, 'gClamp': {'Person19'}, 'giftBag': {'Person32', 'Person7', 'Person18', 'Person33', 'Person23'}, 'glassBead': {'Person37', 'Person29', 'Person3', 'Person14', 'Person17', 'Person35', 'Person2', 'Person10', 'Person6', 'Person33', 'Person5', 'Person23'}, 'gyroscope': {'Person37'}, 'hairClip': {'Person36'}, 'hairRoller': {'Person37'}, 'lavenderDie': {'Person29', 'Person3', 'Person30', 'Person18'}, 'legoBracelet': {'Person12', 'Person17', 'Person13', 'Person10', 'Person24', 'Person5'}, 'metalKey': {'Person4', 'Person26', 'Person8', 'Person30'}, 'miniCards': {'Person14', 'Person4', 'Person32', 'Person13'}, 'noisemaker': set(), 'paperPlate': {'Person37', 'Person25', 'Person19', 'Person13'}, 'partyFavor': {'Person34', 'Person32', 'Person2', 'Person10', 'Person27', 'Person6', 'Person25'}, 'pinkCandle': set(), 'pinkEraser': {'Person15', 'Person33'}, 'plaidPencil': set(), 'pumpkinNotes': {'Person14', 'Person3', 'Person32'}, 'rainbowPens': set(), 'redBow': set(), 'redDart': {'Person38'}, 'redWhistle': {'Person7', 'Person38', 'Person9', 'Person33', 'Person23'}, 'rubiksCube': {'Person34', 'Person30'}, 'sign': {'Person36'}, 'silverStraw': {'Person33'}, 'spiderRing': {'Person2', 'Person24', 'Person36', 'Person34', 'Person4'}, 'stickerBox': {'Person10', 'Person9'}, 'trophy': {'Person37', 'Person11', 'Person20', 'Person35', 'Person13', 'Person10', 'Person25'}, 'turtle': {'Person32', 'Person35', 'Person33', 'Person36', 'Person34'}, 'vancouverCards': {'Person11', 'Person39'}, 'voiceRecorder': {'Person3', 'Person12', 'Person17', 'Person38', 'Person27', 'Person33', 'Person34', 'Person23'}, 'yellowBag': {'Person12', 'Person32'}, 'yellowBalloon': {'Person16', 'Person3', 'Person17', 'Person1', 'Person5', 'Person4'}}\n"
     ]
    }
   ],
   "source": [
    "print(jpgcount)\n",
    "print(obj_owners_jpg)"
   ]
  },
  {
   "cell_type": "code",
   "execution_count": 10,
   "metadata": {},
   "outputs": [
    {
     "name": "stdout",
     "output_type": "stream",
     "text": [
      "{'birdCall': {'Person15', 'Person13'}, 'blueSunglasses': {'Person7', 'Person13', 'Person27', 'Person9', 'Person22', 'Person5', 'Person31'}, 'brownDie': {'Person7', 'Person14', 'Person17', 'Person13', 'Person2', 'Person5', 'Person33', 'Person25', 'Person23'}, 'cactusPaper': {'Person12', 'Person10', 'Person9'}, 'canadaPencil': {'Person14', 'Person35', 'Person22'}, 'carabiner': {'Person29', 'Person27', 'Person13'}, 'cloudSign': {'Person14', 'Person37', 'Person32'}, 'cowbell': {'Person28', 'Person3', 'Person35', 'Person38'}, 'cupcakePaper': {'Person34', 'Person33', 'Person6', 'Person13', 'Person23'}, 'eyeball': {'Person18', 'Person35', 'Person30', 'Person33'}, 'foamDart': {'Person33'}, 'gClamp': {'Person19'}, 'giftBag': {'Person33', 'Person32', 'Person7', 'Person18', 'Person23'}, 'glassBead': {'Person37', 'Person29', 'Person3', 'Person14', 'Person17', 'Person35', 'Person2', 'Person10', 'Person5', 'Person33', 'Person6', 'Person23'}, 'gyroscope': {'Person14', 'Person37', 'Person35'}, 'hairClip': {'Person36', 'Person12', 'Person28'}, 'hairRoller': {'Person15', 'Person37', 'Person27'}, 'lavenderDie': {'Person29', 'Person3', 'Person30', 'Person18'}, 'legoBracelet': {'Person12', 'Person17', 'Person39', 'Person13', 'Person10', 'Person24', 'Person27', 'Person5'}, 'metalKey': {'Person4', 'Person26', 'Person8', 'Person30'}, 'miniCards': {'Person32', 'Person14', 'Person4', 'Person13'}, 'noisemaker': {'Person12', 'Person15'}, 'paperPlate': {'Person37', 'Person25', 'Person19', 'Person13'}, 'partyFavor': {'Person10', 'Person27', 'Person32', 'Person6', 'Person25', 'Person34', 'Person2'}, 'pinkCandle': {'Person14', 'Person27', 'Person35'}, 'pinkEraser': {'Person15', 'Person40', 'Person33'}, 'plaidPencil': set(), 'pumpkinNotes': {'Person27', 'Person3', 'Person32', 'Person14', 'Person12'}, 'rainbowPens': {'Person3'}, 'redBow': {'Person29'}, 'redDart': {'Person38'}, 'redWhistle': {'Person9', 'Person7', 'Person33', 'Person38', 'Person23'}, 'rubiksCube': {'Person34', 'Person7', 'Person30'}, 'sign': {'Person36', 'Person15'}, 'silverStraw': {'Person33'}, 'spiderRing': {'Person24', 'Person28', 'Person36', 'Person34', 'Person4', 'Person2'}, 'stickerBox': {'Person10', 'Person9', 'Person28'}, 'trophy': {'Person37', 'Person29', 'Person11', 'Person7', 'Person20', 'Person35', 'Person13', 'Person10', 'Person25'}, 'turtle': {'Person32', 'Person33', 'Person36', 'Person34', 'Person35', 'Person31'}, 'vancouverCards': {'Person11', 'Person39'}, 'voiceRecorder': {'Person3', 'Person12', 'Person17', 'Person15', 'Person39', 'Person38', 'Person27', 'Person33', 'Person34', 'Person23'}, 'yellowBag': {'Person12', 'Person32'}, 'yellowBalloon': {'Person1', 'Person16', 'Person3', 'Person5', 'Person17', 'Person4'}}\n"
     ]
    }
   ],
   "source": [
    "obj_owners_combined = {}\n",
    "\n",
    "for k in obj_names:\n",
    "    obj_owners_combined[k] = obj_owners_txt[k].union(obj_owners_jpg[k]).union(obj_owners_capt[k])\n",
    "\n",
    "print(obj_owners_combined)"
   ]
  },
  {
   "cell_type": "code",
   "execution_count": 11,
   "metadata": {},
   "outputs": [
    {
     "name": "stdout",
     "output_type": "stream",
     "text": [
      "{'legoBracelet': {'Person12', 'Person17', 'Person39', 'Person13', 'Person10', 'Person24', 'Person27', 'Person5'}}\n"
     ]
    }
   ],
   "source": [
    "potential_totems = {k:v for k, v in obj_owners_combined.items() if len(v) in {8}}\n",
    "\n",
    "print(potential_totems)"
   ]
  },
  {
   "cell_type": "code",
   "execution_count": 12,
   "metadata": {},
   "outputs": [
    {
     "name": "stdout",
     "output_type": "stream",
     "text": [
      "{'birdCall': {'Person15_9', 'Person13_11'}, 'blueSunglasses': {'Person27_7', 'Person7_2', 'Person27_1', 'Person13_37', 'Person27_6', 'Person27_4', 'Person31_3'}, 'brownDie': {'Person7_6'}, 'cactusPaper': {'Person12_3'}, 'canadaPencil': {'Person14_9'}, 'carabiner': {'Person27_1', 'Person27_7'}, 'cloudSign': {'Person37_10', 'Person37_13'}, 'cowbell': {'Person28_5'}, 'cupcakePaper': {'Person13_22', 'Person13_18'}, 'eyeball': set(), 'foamDart': set(), 'gClamp': set(), 'giftBag': set(), 'glassBead': set(), 'gyroscope': {'Person14_5', 'Person37_23', 'Person37_18'}, 'hairClip': {'Person28_3', 'Person12_6'}, 'hairRoller': {'Person27_8', 'Person15_5'}, 'lavenderDie': set(), 'legoBracelet': {'Person27_10', 'Person12_12', 'Person27_11', 'Person27_9'}, 'metalKey': set(), 'miniCards': set(), 'noisemaker': {'Person15_1', 'Person12_10'}, 'paperPlate': set(), 'partyFavor': set(), 'pinkCandle': {'Person14_13', 'Person27_12'}, 'pinkEraser': {'Person40_9', 'Person15_7'}, 'plaidPencil': set(), 'pumpkinNotes': {'Person27_14', 'Person3_8', 'Person12_15', 'Person27_13'}, 'rainbowPens': {'Person3_7'}, 'redBow': set(), 'redDart': set(), 'redWhistle': set(), 'rubiksCube': {'Person7_16'}, 'sign': {'Person15_3'}, 'silverStraw': set(), 'spiderRing': {'Person28_2', 'Person28_1'}, 'stickerBox': {'Person28_3'}, 'trophy': {'Person7_14', 'Person7_13', 'Person7_4', 'Person7_11', 'Person7_9'}, 'turtle': {'Person33_35', 'Person33_39', 'Person33_48', 'Person33_34', 'Person33_42', 'Person31_1', 'Person33_32', 'Person33_52', 'Person33_31', 'Person31_4', 'Person31_2', 'Person33_50', 'Person33_56', 'Person33_49', 'Person33_36', 'Person31_3'}, 'vancouverCards': set(), 'voiceRecorder': {'Person15_13'}, 'yellowBag': set(), 'yellowBalloon': set()}\n"
     ]
    }
   ],
   "source": [
    "missed_obj_sources = {}\n",
    "\n",
    "missed_obj_owners = {}\n",
    "\n",
    "for k in obj_names:\n",
    "    missed_obj_sources[k] = obj_sources_capt[k].difference(obj_sources_jpg[k])\n",
    "    missed_obj_owners[k] = obj_owners_capt[k].difference(obj_owners_jpg[k])\n",
    "\n",
    "print(missed_obj_sources)"
   ]
  },
  {
   "cell_type": "code",
   "execution_count": 13,
   "metadata": {},
   "outputs": [
    {
     "name": "stdout",
     "output_type": "stream",
     "text": [
      "{'birdCall': {'Person15'}, 'blueSunglasses': {'Person31'}, 'brownDie': set(), 'cactusPaper': {'Person12'}, 'canadaPencil': {'Person14'}, 'carabiner': {'Person27'}, 'cloudSign': set(), 'cowbell': {'Person28'}, 'cupcakePaper': set(), 'eyeball': set(), 'foamDart': set(), 'gClamp': set(), 'giftBag': set(), 'glassBead': set(), 'gyroscope': {'Person14'}, 'hairClip': {'Person12', 'Person28'}, 'hairRoller': {'Person15', 'Person27'}, 'lavenderDie': set(), 'legoBracelet': {'Person27'}, 'metalKey': set(), 'miniCards': set(), 'noisemaker': {'Person12', 'Person15'}, 'paperPlate': set(), 'partyFavor': set(), 'pinkCandle': {'Person14', 'Person27'}, 'pinkEraser': {'Person40'}, 'plaidPencil': set(), 'pumpkinNotes': {'Person12', 'Person27'}, 'rainbowPens': {'Person3'}, 'redBow': set(), 'redDart': set(), 'redWhistle': set(), 'rubiksCube': {'Person7'}, 'sign': {'Person15'}, 'silverStraw': set(), 'spiderRing': {'Person28'}, 'stickerBox': {'Person28'}, 'trophy': {'Person7'}, 'turtle': {'Person31'}, 'vancouverCards': set(), 'voiceRecorder': {'Person15'}, 'yellowBag': set(), 'yellowBalloon': set()}\n"
     ]
    }
   ],
   "source": [
    "print(missed_obj_owners)"
   ]
  },
  {
   "cell_type": "code",
   "execution_count": 14,
   "metadata": {},
   "outputs": [
    {
     "name": "stdout",
     "output_type": "stream",
     "text": [
      "Number of objects identified in source images using captions: 94\n",
      "Number of caption-identified objects missed by model in source images: 68\n",
      "Percentage of caption-identified objects missed by model in source images: 72.34\n",
      "Number of object owners identified using captions: 47\n",
      "Number of caption-identified object owners missed by model: 27\n",
      "Percentage of caption-identified object owners missed by model: 57.45\n"
     ]
    }
   ],
   "source": [
    "capt_obj_count = 0\n",
    "\n",
    "capt_missed_count = 0\n",
    "\n",
    "capt_owners_count = 0\n",
    "\n",
    "capt_missed_owners = 0\n",
    "\n",
    "for k in obj_names:\n",
    "    capt_obj_count += len(obj_sources_capt[k])\n",
    "    capt_missed_count += len(missed_obj_sources[k])\n",
    "    capt_owners_count += len(obj_owners_capt[k])\n",
    "    capt_missed_owners += len(missed_obj_owners[k])\n",
    "\n",
    "print(\"Number of objects identified in source images using captions:\", capt_obj_count)\n",
    "print(\"Number of caption-identified objects missed by model in source images:\", capt_missed_count)\n",
    "print(\"Percentage of caption-identified objects missed by model in source images:\", round(capt_missed_count/capt_obj_count*100, 2))\n",
    "print(\"Number of object owners identified using captions:\", capt_owners_count)\n",
    "print(\"Number of caption-identified object owners missed by model:\", capt_missed_owners)\n",
    "print(\"Percentage of caption-identified object owners missed by model:\", round(capt_missed_owners/capt_owners_count*100, 2))"
   ]
  },
  {
   "cell_type": "code",
   "execution_count": 15,
   "metadata": {},
   "outputs": [
    {
     "data": {
      "text/html": [
       "<div>\n",
       "<style scoped>\n",
       "    .dataframe tbody tr th:only-of-type {\n",
       "        vertical-align: middle;\n",
       "    }\n",
       "\n",
       "    .dataframe tbody tr th {\n",
       "        vertical-align: top;\n",
       "    }\n",
       "\n",
       "    .dataframe thead th {\n",
       "        text-align: right;\n",
       "    }\n",
       "</style>\n",
       "<table border=\"1\" class=\"dataframe\">\n",
       "  <thead>\n",
       "    <tr style=\"text-align: right;\">\n",
       "      <th></th>\n",
       "      <th>Confidence</th>\n",
       "    </tr>\n",
       "    <tr>\n",
       "      <th>Object</th>\n",
       "      <th></th>\n",
       "    </tr>\n",
       "  </thead>\n",
       "  <tbody>\n",
       "    <tr>\n",
       "      <th>pinkCandle</th>\n",
       "      <td>0.363922</td>\n",
       "    </tr>\n",
       "    <tr>\n",
       "      <th>hairClip</th>\n",
       "      <td>0.409546</td>\n",
       "    </tr>\n",
       "    <tr>\n",
       "      <th>birdCall</th>\n",
       "      <td>0.431411</td>\n",
       "    </tr>\n",
       "    <tr>\n",
       "      <th>plaidPencil</th>\n",
       "      <td>0.431885</td>\n",
       "    </tr>\n",
       "    <tr>\n",
       "      <th>redBow</th>\n",
       "      <td>0.436341</td>\n",
       "    </tr>\n",
       "    <tr>\n",
       "      <th>canadaPencil</th>\n",
       "      <td>0.437811</td>\n",
       "    </tr>\n",
       "    <tr>\n",
       "      <th>carabiner</th>\n",
       "      <td>0.439244</td>\n",
       "    </tr>\n",
       "    <tr>\n",
       "      <th>rainbowPens</th>\n",
       "      <td>0.452555</td>\n",
       "    </tr>\n",
       "    <tr>\n",
       "      <th>sign</th>\n",
       "      <td>0.462386</td>\n",
       "    </tr>\n",
       "    <tr>\n",
       "      <th>redDart</th>\n",
       "      <td>0.474731</td>\n",
       "    </tr>\n",
       "  </tbody>\n",
       "</table>\n",
       "</div>"
      ],
      "text/plain": [
       "              Confidence\n",
       "Object                  \n",
       "pinkCandle      0.363922\n",
       "hairClip        0.409546\n",
       "birdCall        0.431411\n",
       "plaidPencil     0.431885\n",
       "redBow          0.436341\n",
       "canadaPencil    0.437811\n",
       "carabiner       0.439244\n",
       "rainbowPens     0.452555\n",
       "sign            0.462386\n",
       "redDart         0.474731"
      ]
     },
     "execution_count": 15,
     "metadata": {},
     "output_type": "execute_result"
    }
   ],
   "source": [
    "pred_confs_df = pd.DataFrame(pred_confs, columns=[\"Object\", \"Confidence\"])\n",
    "sorted_confs_df = pred_confs_df.groupby([\"Object\"]).mean().sort_values(by=[\"Confidence\"])\n",
    "sorted_confs_df.head(10)"
   ]
  },
  {
   "cell_type": "code",
   "execution_count": 16,
   "metadata": {},
   "outputs": [
    {
     "data": {
      "text/html": [
       "<div>\n",
       "<style scoped>\n",
       "    .dataframe tbody tr th:only-of-type {\n",
       "        vertical-align: middle;\n",
       "    }\n",
       "\n",
       "    .dataframe tbody tr th {\n",
       "        vertical-align: top;\n",
       "    }\n",
       "\n",
       "    .dataframe thead th {\n",
       "        text-align: right;\n",
       "    }\n",
       "</style>\n",
       "<table border=\"1\" class=\"dataframe\">\n",
       "  <thead>\n",
       "    <tr style=\"text-align: right;\">\n",
       "      <th></th>\n",
       "      <th>Confidence</th>\n",
       "    </tr>\n",
       "    <tr>\n",
       "      <th>Object</th>\n",
       "      <th></th>\n",
       "    </tr>\n",
       "  </thead>\n",
       "  <tbody>\n",
       "    <tr>\n",
       "      <th>blueSunglasses</th>\n",
       "      <td>0.658508</td>\n",
       "    </tr>\n",
       "    <tr>\n",
       "      <th>glassBead</th>\n",
       "      <td>0.680442</td>\n",
       "    </tr>\n",
       "    <tr>\n",
       "      <th>cloudSign</th>\n",
       "      <td>0.705915</td>\n",
       "    </tr>\n",
       "    <tr>\n",
       "      <th>turtle</th>\n",
       "      <td>0.711762</td>\n",
       "    </tr>\n",
       "    <tr>\n",
       "      <th>cowbell</th>\n",
       "      <td>0.712118</td>\n",
       "    </tr>\n",
       "    <tr>\n",
       "      <th>pumpkinNotes</th>\n",
       "      <td>0.720845</td>\n",
       "    </tr>\n",
       "    <tr>\n",
       "      <th>paperPlate</th>\n",
       "      <td>0.751476</td>\n",
       "    </tr>\n",
       "    <tr>\n",
       "      <th>cactusPaper</th>\n",
       "      <td>0.765625</td>\n",
       "    </tr>\n",
       "    <tr>\n",
       "      <th>stickerBox</th>\n",
       "      <td>0.819092</td>\n",
       "    </tr>\n",
       "    <tr>\n",
       "      <th>yellowBalloon</th>\n",
       "      <td>0.826204</td>\n",
       "    </tr>\n",
       "  </tbody>\n",
       "</table>\n",
       "</div>"
      ],
      "text/plain": [
       "                Confidence\n",
       "Object                    \n",
       "blueSunglasses    0.658508\n",
       "glassBead         0.680442\n",
       "cloudSign         0.705915\n",
       "turtle            0.711762\n",
       "cowbell           0.712118\n",
       "pumpkinNotes      0.720845\n",
       "paperPlate        0.751476\n",
       "cactusPaper       0.765625\n",
       "stickerBox        0.819092\n",
       "yellowBalloon     0.826204"
      ]
     },
     "execution_count": 16,
     "metadata": {},
     "output_type": "execute_result"
    }
   ],
   "source": [
    "sorted_confs_df.tail(10)"
   ]
  }
 ],
 "metadata": {
  "kernelspec": {
   "display_name": "Python 3.9.13 ('base')",
   "language": "python",
   "name": "python3"
  },
  "language_info": {
   "codemirror_mode": {
    "name": "ipython",
    "version": 3
   },
   "file_extension": ".py",
   "mimetype": "text/x-python",
   "name": "python",
   "nbconvert_exporter": "python",
   "pygments_lexer": "ipython3",
   "version": "3.9.13"
  },
  "orig_nbformat": 4,
  "vscode": {
   "interpreter": {
    "hash": "59ade92532d8d3895a069c2852af6d2b1d145f56e2d7a131ec5b513d5377ef83"
   }
  }
 },
 "nbformat": 4,
 "nbformat_minor": 2
}
